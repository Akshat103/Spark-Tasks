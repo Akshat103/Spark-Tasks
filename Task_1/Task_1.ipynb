{
  "nbformat": 4,
  "nbformat_minor": 0,
  "metadata": {
    "colab": {
      "provenance": [],
      "collapsed_sections": []
    },
    "kernelspec": {
      "name": "python3",
      "display_name": "Python 3"
    },
    "language_info": {
      "name": "python"
    }
  },
  "cells": [
    {
      "cell_type": "markdown",
      "source": [
        "**TASK 1 - Prediction using Supervised ML**"
      ],
      "metadata": {
        "id": "6PqCFBQ7SpIZ"
      }
    },
    {
      "cell_type": "markdown",
      "source": [
        "To Predict the percentage of marks of the students based on the number of hours they studied"
      ],
      "metadata": {
        "id": "inYddldISpUA"
      }
    },
    {
      "cell_type": "markdown",
      "source": [
        "**Author - Akshat Tamrakar**"
      ],
      "metadata": {
        "id": "121LD3-zSpep"
      }
    },
    {
      "cell_type": "code",
      "source": [
        "#import essential libraries\n",
        "import numpy as np\n",
        "import pandas as pd\n",
        "import matplotlib.pyplot as plt\n",
        "from sklearn import linear_model\n",
        "from sklearn.model_selection import train_test_split\n",
        "from sklearn.preprocessing import StandardScaler\n",
        "from sklearn.linear_model import LinearRegression"
      ],
      "metadata": {
        "id": "RxnD_GlES9jY"
      },
      "execution_count": null,
      "outputs": []
    },
    {
      "cell_type": "code",
      "source": [
        "#import csv data of study hours\n",
        "data = pd.read_csv(\"/content/sample_data/StudyData.csv\")"
      ],
      "metadata": {
        "id": "_kIgah_KTHE5"
      },
      "execution_count": null,
      "outputs": []
    },
    {
      "cell_type": "markdown",
      "source": [
        "There should be no null feature."
      ],
      "metadata": {
        "id": "1B2Gmer-l2-2"
      }
    },
    {
      "cell_type": "code",
      "source": [
        "#Drop corresponding columns if there is any NULL value\n",
        "data.dropna(inplace = True)\n",
        "# data.info()"
      ],
      "metadata": {
        "id": "BJ0SQlkNTIOL"
      },
      "execution_count": null,
      "outputs": []
    },
    {
      "cell_type": "markdown",
      "source": [
        "Plot scatter graph of data for visualization."
      ],
      "metadata": {
        "id": "jfPqEEezmIxD"
      }
    },
    {
      "cell_type": "code",
      "source": [
        "%matplotlib inline\n",
        "plt.figure()\n",
        "plt.grid()\n",
        "plt.xlabel('Hours')\n",
        "plt.ylabel('Scores')\n",
        "plt.scatter(data.Hours,data.Scores, color=\"r\", marker='o')"
      ],
      "metadata": {
        "colab": {
          "base_uri": "https://localhost:8080/",
          "height": 296
        },
        "id": "c57u7MRFTiy8",
        "outputId": "bf1277e8-5170-44cb-8be1-4411e7b5d583"
      },
      "execution_count": null,
      "outputs": [
        {
          "output_type": "execute_result",
          "data": {
            "text/plain": [
              "<matplotlib.collections.PathCollection at 0x7f415e236390>"
            ]
          },
          "metadata": {},
          "execution_count": 65
        },
        {
          "output_type": "display_data",
          "data": {
            "text/plain": [
              "<Figure size 432x288 with 1 Axes>"
            ],
            "image/png": "[encoded data removed]"
          },
          "metadata": {
            "needs_background": "light"
          }
        }
      ]
    },
    {
      "cell_type": "markdown",
      "source": [
        "Get hours and scores seperately."
      ],
      "metadata": {
        "id": "OBDMlRM0mhaC"
      }
    },
    {
      "cell_type": "code",
      "source": [
        "# Defining X and y from the Data\n",
        "X = data.iloc[:, :-1].values  \n",
        "y = data.iloc[:, 1].values\n",
        "# Spliting the Data in two\n",
        "X_train, X_test, y_train, y_test = train_test_split(X, y, test_size = 0.2, random_state = 0)"
      ],
      "metadata": {
        "id": "NyOB77U_VOkz"
      },
      "execution_count": null,
      "outputs": []
    },
    {
      "cell_type": "markdown",
      "source": [
        "Applying standard scaler on the data."
      ],
      "metadata": {
        "id": "npQ2oyCxmpAx"
      }
    },
    {
      "cell_type": "code",
      "source": [
        "scale = StandardScaler()\n",
        "scale.fit_transform(X_train)\n",
        "scale.transform(X_test);"
      ],
      "metadata": {
        "id": "4nAIB-_QWiZ5"
      },
      "execution_count": null,
      "outputs": []
    },
    {
      "cell_type": "markdown",
      "source": [
        "Fitting the model on training data"
      ],
      "metadata": {
        "id": "AMU77iFbm-EQ"
      }
    },
    {
      "cell_type": "code",
      "source": [
        "reg = LinearRegression()\n",
        "reg.fit(X_train, y_train)"
      ],
      "metadata": {
        "colab": {
          "base_uri": "https://localhost:8080/"
        },
        "id": "Vg8wpvv6WUK4",
        "outputId": "55268619-e4f6-4026-ddb2-a73e03ffced7"
      },
      "execution_count": null,
      "outputs": [
        {
          "output_type": "execute_result",
          "data": {
            "text/plain": [
              "LinearRegression()"
            ]
          },
          "metadata": {},
          "execution_count": 68
        }
      ]
    },
    {
      "cell_type": "markdown",
      "source": [
        "Test predictions through test data."
      ],
      "metadata": {
        "id": "YCmepn_roArc"
      }
    },
    {
      "cell_type": "code",
      "source": [
        "pred_y = reg.predict(X_test)\n",
        "prediction = pd.DataFrame({'Hours': [i[0] for i in X_test], 'Predicted Marks': [k for k in pred_y]})\n",
        "# prediction"
      ],
      "metadata": {
        "id": "rsFEi_TpXac6"
      },
      "execution_count": null,
      "outputs": []
    },
    {
      "cell_type": "code",
      "source": [
        "#Predicting the target: mpg against the predictors in the training data set\n",
        "#Predicted data stored in y_pred_train\n",
        "y_pred_train = reg.predict(X_train)\n",
        "#Predicting the target: mpg against the predictors in the testing data set\n",
        "#Predicted data stored in y_pred_test\n",
        "y_pred_test = reg.predict(X_test)"
      ],
      "metadata": {
        "id": "m6NAWy8Ji6ic"
      },
      "execution_count": null,
      "outputs": []
    },
    {
      "cell_type": "code",
      "source": [
        "# Prediction Accuracy in terms of how close is the predicted value of target: mpg\n",
        "# to the real value in training data set\n",
        "from sklearn.metrics import r2_score\n",
        "r2_S = r2_score(y_train, y_pred_train)\n",
        "r2_S"
      ],
      "metadata": {
        "colab": {
          "base_uri": "https://localhost:8080/"
        },
        "id": "y59XcuhWhpI2",
        "outputId": "965227ac-35b0-4b4a-85d6-3ff542ddbf89"
      },
      "execution_count": null,
      "outputs": [
        {
          "output_type": "execute_result",
          "data": {
            "text/plain": [
              "0.9515510725211552"
            ]
          },
          "metadata": {},
          "execution_count": 72
        }
      ]
    },
    {
      "cell_type": "code",
      "source": [
        "# Prediction Accuracy in terms of how close the predicted value of target: mpg\n",
        "# to the real value in testing data set\n",
        "from sklearn.metrics import r2_score\n",
        "r2_S = r2_score(y_test, y_pred_test)\n",
        "r2_S"
      ],
      "metadata": {
        "colab": {
          "base_uri": "https://localhost:8080/"
        },
        "id": "foWv6qdvjE0g",
        "outputId": "58fdaa81-2b72-4eb8-f0ef-2b33d1b0b95c"
      },
      "execution_count": null,
      "outputs": [
        {
          "output_type": "execute_result",
          "data": {
            "text/plain": [
              "0.9454906892105354"
            ]
          },
          "metadata": {},
          "execution_count": 73
        }
      ]
    },
    {
      "cell_type": "code",
      "source": [
        "score = reg.predict([[9.25]])\n",
        "print(\"Score = {}\".format(score))"
      ],
      "metadata": {
        "id": "pAX5gKjNkRlJ",
        "outputId": "49802cca-3c81-4d7b-e3c8-5b534d79837f",
        "colab": {
          "base_uri": "https://localhost:8080/"
        }
      },
      "execution_count": null,
      "outputs": [
        {
          "output_type": "stream",
          "name": "stdout",
          "text": [
            "Score = [93.69173249]\n"
          ]
        }
      ]
    }
  ]
}